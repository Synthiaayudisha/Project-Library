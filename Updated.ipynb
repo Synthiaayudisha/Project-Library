{
  "nbformat": 4,
  "nbformat_minor": 0,
  "metadata": {
    "colab": {
      "provenance": [],
      "include_colab_link": true
    },
    "kernelspec": {
      "name": "python3",
      "display_name": "Python 3"
    },
    "language_info": {
      "name": "python"
    }
  },
  "cells": [
    {
      "cell_type": "markdown",
      "metadata": {
        "id": "view-in-github",
        "colab_type": "text"
      },
      "source": [
        "<a href=\"https://colab.research.google.com/github/Synthiaayudisha/Project-Library/blob/main/Updated.ipynb\" target=\"_parent\"><img src=\"https://colab.research.google.com/assets/colab-badge.svg\" alt=\"Open In Colab\"/></a>"
      ]
    },
    {
      "cell_type": "markdown",
      "source": [
        "Project Python"
      ],
      "metadata": {
        "id": "4ugIR6ZGP5F2"
      }
    },
    {
      "cell_type": "markdown",
      "source": [
        "Buat Class dan Methods"
      ],
      "metadata": {
        "id": "tZUgRGH-TiE2"
      }
    },
    {
      "cell_type": "code",
      "source": [
        "class Transaction():\n",
        "  def __init__(self):\n",
        "    self.data_item = dict() # nama sebagai index\n",
        "\n",
        "  def tambah_item(self, nama, jumlah, harga):\n",
        "    self.data_item[nama] = [jumlah, harga]\n",
        "\n",
        "  def update_nama(self, namaLama ,namaBaru):\n",
        "    self.data_item[namaBaru] = self.data_item[namaLama]\n",
        "    del self.data_item[namaLama]\n",
        "\n",
        "  def update_jumlah(self, nama, jumlahBaru):\n",
        "    self.data_item[nama][0] = jumlahBaru\n",
        "\n",
        "  def update_harga(self, nama, hargaBaru):\n",
        "    self.data_item[nama][1] = hargaBaru\n",
        "\n",
        "  def check_data_item(self):\n",
        "    return self.data_item\n",
        "\n",
        "  def delete_belanjaan(self):\n",
        "    self.delete_item.clear()\n",
        "\n"
      ],
      "metadata": {
        "id": "YsjrSZoIPXbk"
      },
      "execution_count": null,
      "outputs": []
    },
    {
      "cell_type": "code",
      "source": [
        "a = {'nama':[1,2,3]}\n",
        "b = a \n",
        "\n",
        "for i in list(b.keys()):\n",
        "  print(i)"
      ],
      "metadata": {
        "id": "COd6LVh2R2Q6",
        "outputId": "2390cf7e-bdaa-42d6-e7f3-73cd9354f398",
        "colab": {
          "base_uri": "https://localhost:8080/"
        }
      },
      "execution_count": null,
      "outputs": [
        {
          "output_type": "stream",
          "name": "stdout",
          "text": [
            "nama\n"
          ]
        }
      ]
    },
    {
      "cell_type": "markdown",
      "source": [
        "Test Fungsi"
      ],
      "metadata": {
        "id": "o14BJ_zQTpr_"
      }
    },
    {
      "cell_type": "code",
      "source": [
        "t1 = Transaction()"
      ],
      "metadata": {
        "id": "kiOmrP46ajUO"
      },
      "execution_count": null,
      "outputs": []
    },
    {
      "cell_type": "code",
      "source": [
        "t1.tambah_item('mobil',2, 500)"
      ],
      "metadata": {
        "id": "Yhnp9Sbc0HWM"
      },
      "execution_count": null,
      "outputs": []
    },
    {
      "cell_type": "code",
      "source": [
        "t1.check_data_item()"
      ],
      "metadata": {
        "id": "rA83vE141-75",
        "outputId": "dac676a3-4092-4d92-b4d4-1508580acc8f",
        "colab": {
          "base_uri": "https://localhost:8080/"
        }
      },
      "execution_count": null,
      "outputs": [
        {
          "output_type": "execute_result",
          "data": {
            "text/plain": [
              "{'mobil': [2, 500]}"
            ]
          },
          "metadata": {},
          "execution_count": 251
        }
      ]
    },
    {
      "cell_type": "code",
      "source": [
        "# Update Harga\n",
        "t1.update_harga('mobil', 1000)"
      ],
      "metadata": {
        "id": "MF94U8PN-f-3"
      },
      "execution_count": null,
      "outputs": []
    },
    {
      "cell_type": "code",
      "source": [
        "t1.check_data_item()"
      ],
      "metadata": {
        "id": "T_G3yvHm-uix",
        "outputId": "92cba502-6742-4c8e-f8e3-22d97eaa3fdc",
        "colab": {
          "base_uri": "https://localhost:8080/"
        }
      },
      "execution_count": null,
      "outputs": [
        {
          "output_type": "execute_result",
          "data": {
            "text/plain": [
              "{'mobil': [2, 1000]}"
            ]
          },
          "metadata": {},
          "execution_count": 253
        }
      ]
    },
    {
      "cell_type": "code",
      "source": [
        "# Update Jumlah\n",
        "t1.update_jumlah('mobil', 10)"
      ],
      "metadata": {
        "id": "38mR-oHTPQR-"
      },
      "execution_count": null,
      "outputs": []
    },
    {
      "cell_type": "code",
      "source": [
        "t1.check_data_item()"
      ],
      "metadata": {
        "id": "2te6j7o-PcVF",
        "outputId": "d4f37fe7-32cf-418b-ac17-f65a5bc1e848",
        "colab": {
          "base_uri": "https://localhost:8080/"
        }
      },
      "execution_count": null,
      "outputs": [
        {
          "output_type": "execute_result",
          "data": {
            "text/plain": [
              "{'mobil': [10, 1000]}"
            ]
          },
          "metadata": {},
          "execution_count": 255
        }
      ]
    },
    {
      "cell_type": "code",
      "source": [
        "# Update Nama\n",
        "t1.update_nama('mobil', 'car')"
      ],
      "metadata": {
        "id": "E-TFUW_yPWMn"
      },
      "execution_count": null,
      "outputs": []
    },
    {
      "cell_type": "code",
      "source": [
        "t1.check_data_item()"
      ],
      "metadata": {
        "id": "8VGD7IA1PdYB",
        "outputId": "a2f60b39-95eb-4746-d3df-4699022ec8bd",
        "colab": {
          "base_uri": "https://localhost:8080/"
        }
      },
      "execution_count": null,
      "outputs": [
        {
          "output_type": "execute_result",
          "data": {
            "text/plain": [
              "{'car': [10, 1000]}"
            ]
          },
          "metadata": {},
          "execution_count": 257
        }
      ]
    }
  ]
}